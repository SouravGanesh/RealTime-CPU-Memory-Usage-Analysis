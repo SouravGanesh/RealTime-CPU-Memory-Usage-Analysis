{
 "cells": [
  {
   "cell_type": "markdown",
   "metadata": {},
   "source": [
    "Imports "
   ]
  },
  {
   "cell_type": "code",
   "execution_count": null,
   "metadata": {},
   "outputs": [],
   "source": [
    "import psutil #python system and utilities \n",
    "import time\n",
    "import pyodbc # python odbc"
   ]
  },
  {
   "cell_type": "markdown",
   "metadata": {},
   "source": [
    "Create ODBC Connection"
   ]
  },
  {
   "cell_type": "code",
   "execution_count": null,
   "metadata": {},
   "outputs": [],
   "source": [
    "con = pyodbc.connect('DRIVER={SQL Server};'\n",
    "                     'SERVER=LAPTOP-L1ES3M9E\\SQLEXPRESS;'\n",
    "                     'DATABASE=sql_py_proj;'\n",
    "                     'Trusted_Connection=yes;')"
   ]
  },
  {
   "cell_type": "markdown",
   "metadata": {},
   "source": [
    "Create Cursor"
   ]
  },
  {
   "cell_type": "code",
   "execution_count": null,
   "metadata": {},
   "outputs": [],
   "source": [
    "# Create a cursor\n",
    "cursor = con.cursor()"
   ]
  },
  {
   "cell_type": "markdown",
   "metadata": {},
   "source": [
    "Collecting data and Inserting into SQL Database"
   ]
  },
  {
   "cell_type": "code",
   "execution_count": null,
   "metadata": {},
   "outputs": [],
   "source": [
    "while 1==1:\n",
    "    cpu_useage = psutil.cpu_percent()\n",
    "    memory_useage = psutil.virtual_memory()[2]\n",
    "    cpu_interupts = psutil.cpu_stats()[1]\n",
    "    cpu_calls = psutil.cpu_stats()[3]\n",
    "    memory_used = psutil.virtual_memory()[3]\n",
    "    memory_free = psutil.virtual_memory()[4]\n",
    "    bytes_sent = psutil.net_io_counters()[0]\n",
    "    bytes_received = psutil.net_io_counters()[1]\n",
    "    disk_useage = psutil.disk_usage('/')[3]\n",
    "\n",
    "    \n",
    "    cursor.execute('insert into performance values (GETDATE(),'\n",
    "                    + str(cpu_useage) + ','\n",
    "                    + str(memory_useage) + ','\n",
    "                    + str(cpu_interupts) + ','\n",
    "                    + str(cpu_calls) + ','\n",
    "                    + str(memory_used) + ','\n",
    "                    + str(memory_free) + ','\n",
    "                    + str (bytes_sent) + ','\n",
    "                    + str (bytes_received) + ','\n",
    "                    + str(disk_useage) + ')'\n",
    "                    )\n",
    "    con.commit()\n",
    "    time.sleep(1)"
   ]
  }
 ],
 "metadata": {
  "kernelspec": {
   "display_name": "Python 3",
   "language": "python",
   "name": "python3"
  },
  "language_info": {
   "codemirror_mode": {
    "name": "ipython",
    "version": 3
   },
   "file_extension": ".py",
   "mimetype": "text/x-python",
   "name": "python",
   "nbconvert_exporter": "python",
   "pygments_lexer": "ipython3",
   "version": "3.11.8"
  }
 },
 "nbformat": 4,
 "nbformat_minor": 2
}
